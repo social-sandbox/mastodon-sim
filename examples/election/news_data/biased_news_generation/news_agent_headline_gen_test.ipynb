{
 "cells": [
  {
   "cell_type": "code",
   "execution_count": 1,
   "metadata": {},
   "outputs": [],
   "source": [
    "import openai\n",
    "from openai import OpenAI\n",
    "import sys\n",
    "import os\n",
    "import json\n",
    "import requests\n",
    "import numpy as np"
   ]
  },
  {
   "cell_type": "markdown",
   "metadata": {},
   "source": [
    "### Generate the headlines"
   ]
  },
  {
   "cell_type": "code",
   "execution_count": null,
   "metadata": {},
   "outputs": [],
   "source": [
    "# Define town history\n",
    "town_history = [\n",
    "    \"Storhampton is a small town with a population of approximately 2,500 people.\",\n",
    "    \"Founded in the early 1800s as a trading post along the banks of the Avonlea River, Storhampton grew into a modest industrial center in the late 19th century.\",\n",
    "    \"The town's economy was built on manufacturing, with factories producing textiles, machinery, and other goods.\",\n",
    "    \"Storhampton's population consists of 60% native-born residents and 40% immigrants from various countries.\",\n",
    "    \"Tension sometimes arises between long-time residents and newer immigrant communities.\",\n",
    "    \"While manufacturing remains important, employing 20% of the workforce, Storhampton's economy has diversified.\",\n",
    "    \"However, a significant portion of the population has been left behind as higher-paying blue-collar jobs have declined, leading to economic instability for many.\",\n",
    "    \"The poverty rate stands at 15%.\",\n",
    "]\n",
    "\n",
    "# Define candidate information\n",
    "candidate_info = {\n",
    "    \"conservative\": {\n",
    "        \"name\": \"Bill Fredrickson\",\n",
    "        \"gender\": \"male\",\n",
    "        \"policy_proposals\": [\n",
    "            \"providing tax breaks to local industry and creating jobs to help grow the economy.\"\n",
    "        ],\n",
    "    },\n",
    "    \"progressive\": {\n",
    "        \"name\": \"Bradley Carter\",\n",
    "        \"gender\": \"male\",\n",
    "        \"policy_proposals\": [\n",
    "            \"increasing regulation to protect the environment and expanding social programs.\"\n",
    "        ],\n",
    "    },\n",
    "}"
   ]
  },
  {
   "cell_type": "markdown",
   "metadata": {},
   "source": [
    "#### Neutral headlines"
   ]
  },
  {
   "cell_type": "code",
   "execution_count": null,
   "metadata": {},
   "outputs": [
    {
     "name": "stdout",
     "output_type": "stream",
     "text": [
      "93\n"
     ]
    }
   ],
   "source": [
    "api_key = \"\"\n",
    "\n",
    "# Query parameters\n",
    "query = \"environment sustainability climate\"\n",
    "url = (\n",
    "    \"https://newsapi.org/v2/everything?\"\n",
    "    f\"q={query}&\"\n",
    "    \"language=en&\"\n",
    "    \"sortBy=publishedAt&\"\n",
    "    \"pageSize=100&\"\n",
    "    f\"apiKey={api_key}\"\n",
    ")\n",
    "\n",
    "response = requests.get(url)\n",
    "data = response.json()\n",
    "if data.get(\"status\") == \"ok\":\n",
    "    articles = data.get(\"articles\", [])\n",
    "    raw_headlines = []\n",
    "    for article in articles:\n",
    "        title = article.get(\"title\")\n",
    "        if title != None:\n",
    "            # clean the  raw title\n",
    "            clean_title = title.replace(\" - \", \" \")\n",
    "            if clean_title == \"[Removed]\":\n",
    "                continue\n",
    "            # Check if cleaned_title is in the headlines, if so skip\n",
    "            if clean_title in raw_headlines:\n",
    "                continue\n",
    "            raw_headlines.append(clean_title)\n",
    "        \n",
    "    print(len(raw_headlines))"
   ]
  },
  {
   "cell_type": "code",
   "execution_count": 26,
   "metadata": {},
   "outputs": [
    {
     "data": {
      "text/plain": [
       "['South Korea to shrink biomass energy subsidies after criticism over link to deforestation',\n",
       " 'Share Market Highlights 22 January 2025: Sensex, Nifty close higher, driven up by rally in IT blue-chips',\n",
       " 'Study reveals rapid shift in loggerhead sea turtles’ range',\n",
       " \"Big Business' Latest 'Solution' — Engineering Cow Digestion for Profit\",\n",
       " 'Rethinking Resources: The Role of Recycled Aluminium Formwork in Sustainable Development',\n",
       " 'Toward sustainable decarbonization of aviation in Latin America',\n",
       " \"SJW Group Named One of America's Most Responsible Companies 2025 by Newsweek\",\n",
       " 'SJW Group Named One of America’s Most Responsible Companies 2025 by Newsweek',\n",
       " \"Transforming China's food system: Researchers assess potential pathways for sustainability\",\n",
       " 'Opinion: Industrial Agriculture is Killing Americans',\n",
       " 'Lula Taps Longtime Climate Diplomat as Brazil’s COP30 Chief',\n",
       " 'Fentress Global Challenge Shortlist Announced for 2024',\n",
       " 'Why Professional Service Firms Are Key To Unlocking Sustainability',\n",
       " 'The Urban Heat Divide: Addressing LA’s Thermal Inequities',\n",
       " 'Direct measurements can reduce uncertainty in soil carbon credit markets',\n",
       " 'Trump Quits the Paris Climate Agreement: What Will Travel Companies Do?',\n",
       " 'Nickel mining a serious concern for climate action, reveals study',\n",
       " 'Among Trump’s Day One Executive Orders: Canceling Biden’s Arts Initiative',\n",
       " 'The Jewellery Sustainability Awards 2025 By JWA Is Accepting Entries',\n",
       " 'SXSW 2025 Additional Speakers Include Disney’s Alan Bergman, David Duchovny, Chelsea Clinton, John Fogerty & More',\n",
       " 'The greening of New Zealand business: Companies taking climate action now',\n",
       " 'Sabin Center Report Highlights Key Climate Cases and Litigation Themes in 2024',\n",
       " 'Big Data, IoT & Climate Change Global Market Forecasts 2025-2030: Enhancing Disaster Response through Real-time Data Analytics from IoT Devices Such as Sensors and Drones',\n",
       " 'AgriFORCE Growing Systems Appoints Dr. Barrett Mooney as its COO, Strengthening Commitment to Technological Innovation in Sustainable Agriculture and Cryptocurrency Mining',\n",
       " 'Trump Cuts Federal DEI Programs With Executive Order: Here Are The Organizations Ending Diversity Programs (Full List)',\n",
       " 'Renew Support for Renewable Energy',\n",
       " 'Can household energy efficiency dampen crude oil price volatility in the United States?',\n",
       " 'The Space Junk Crisis Needs a Recycling Revolution',\n",
       " 'Carbon reporting tools address CSRD challenges',\n",
       " 'PAP launches climate action group, will table parliament motion to support businesses with green transition',\n",
       " 'Regeneratively farmed is the new buzz label on supermarket shelves – but what does it actually mean?',\n",
       " \"Analysis-Trump's Paris climate exit will hit harder than in 2017\",\n",
       " 'Goodfood Reports First Quarter of 2025 Results with Net sales of $35 million, Gross Profit of $14 million and Adjusted EBITDA¹ of $2 million',\n",
       " 'Local MP Visits London School Leading the Way in Sustainability with a Fully Emission-Free Bus Fleet',\n",
       " 'Why Retrofitting Buildings Is Often Greener Than Demolishing Them',\n",
       " 'Fortuna reports record production of 455,958 Au Eq ounces for 2024 and provides 2025 outlook.',\n",
       " 'The 8 talking points fossil fuel companies use to obstruct climate action',\n",
       " 'Global Superfoods Market Valuation is Strengthening to Reach US$ 405.1 Billion By 2033 | Astute Analytica',\n",
       " 'Union Budget 2025: India’s rise as a global innovation leader with deep tech in focus',\n",
       " 'What will you do when you can’t buy or sell anything on the internet without your UN-mandated digital identity chip?',\n",
       " 'Holt Renfrew’s Balancing Act: Broadening the Offering While Maintaining the Luxury\\xa0Aura',\n",
       " 'Enhancing Logistics Efficiency Through Sustainable Practices',\n",
       " 'How faculty with critical care specialties learn in a university hospital: a qualitative phenomenological study',\n",
       " 'Stakeholders urge architects to uphold integrity, transparency',\n",
       " 'Machine Learning Engineer (NLP) – Climate Tech',\n",
       " 'Key Takeaways From Energy Intelligence’s 2025 Outlook',\n",
       " 'Designing Your Dream Home: How Regional Styles and Climate Shape Decor Trends',\n",
       " 'Green Builder Media Is Proud to Announce Its 20th Anniversary!',\n",
       " 'Recycled Polyethylene Terephthalate Market to Worth Over US$ 20.9 Billion By 2033 | Astute Analytica',\n",
       " 'New Soil Carbon Measurement Method Could Boost Trust in Carbon Credit Markets',\n",
       " 'Automotive Interior Materials Market Set to Reach Valuation of US$ 91.20 Billion by 2033 | Astute Analytica',\n",
       " 'What Will You Do When You Can’t Buy Or Sell Anything On The Internet Without Your UN-Mandated Digital Identity Chip?',\n",
       " 'Nanotechnology Market to Surpass Valuation of US$ 107.30 Billion By 2033 | Nanotubes and Nanocomposites to Shine Brighter in the Market Says Astute Analytica',\n",
       " 'The Energy Crisis Is Knocking At Our Door. And Natural Gas Is Emerging As The Leading Fuel…',\n",
       " 'Indigenous Wisdom Meets Innovation For A More Resilient Food Future',\n",
       " 'UCLA Experts Offer Critical Support for LA Wildfire Response and Recovery',\n",
       " 'How European Cannabis Seed Companies Are Quietly Taking Over The U.S. Market',\n",
       " 'Automobile sector needs to make nature ideal when recycling strategies are planned: Bhupendra Yadav',\n",
       " 'Kenya’s farmers have lots of digital tools to help boost productivity – how they can be made more effective',\n",
       " \"Davos: Young people put pressure on WEF's rich and powerful\",\n",
       " 'Global Vitamin B3 Market to Hit Valuation of US$ 521.26 Million By 2033 | Astute Analytica',\n",
       " 'Crowdfunding Market Accelerates Toward $5.43 Billion Milestone as AI-Driven Platforms Thrive',\n",
       " 'Current Climate: Suing Big Oil',\n",
       " 'What comes after Design thinking',\n",
       " 'United States Plant Based Food Market Forecasts Report 2025-2033: Major Food Corporations Expand Offerings Amid Growing Demand, Celebrity Endorsements and Media Influence, QSRs Dominate',\n",
       " 'Weekly Climate and Energy News Roundup #627',\n",
       " 'Sustainable Web Development with Joomla Part 1',\n",
       " 'Radisson Blu Hotel, Bengaluru Outer Ring Road reaches milestone in green building excellence as the first LEED NET ZERO CARBON certified hotel in Radisson Hotel Group’s global portfolio',\n",
       " 'Switzerland Tourism Decline: Causes, Future Outlook and Strategic Solutions',\n",
       " 'Business leaders more optimistic about their organization’s outlook in 2025 plan to focus investment on innovation, efficiency, and resilience',\n",
       " 'How Do Architects Forecast Trends? In Conversation with Research and Inovation Co-Directors of Perkins&Will',\n",
       " '“Masters Of Collaboration” – Inside Gothenburg’s Sustainable Ecosystem',\n",
       " 'Will Budget 2025 green-light India’s climate finance taxonomy?',\n",
       " 'Airbus And OMV To Partner On Sustainable Aviation Fuel',\n",
       " '8 Travel Trends Driving Luxury Travel In 2025',\n",
       " 'These tribes are fighting for ‘ghosts of the mountains’ to survive. They may yet lose',\n",
       " 'How the Trump Presidency Could Impact Urban Planning',\n",
       " 'Brompton bike factory approval a “dark day for nature”, says wildlife trust – while also slamming “puzzling” lack of car parking spaces',\n",
       " 'Blooming initiative with sustainability',\n",
       " 'Students care when they suffer',\n",
       " 'FACULTY OF HUMANITIES FIRST INTERNATIONAL CONFERENCE (ON-SITE & ONLINE)',\n",
       " 'ESG and Sustainability Insights: 10 Things That Should Be Top of Mind in 2025',\n",
       " 'How Ireland’s Shelbourne Hotel is finding sustainability',\n",
       " 'Sweden is Building the World’s Largest City Made Entirely From Timber',\n",
       " 'How to start solar business?',\n",
       " 'Sabah’s reforestation drive gains momentum with I.P.L.A.N.T.',\n",
       " 'What Will You Do When You Can’t Buy Or Sell Anything Without Your UN-Mandated Digital Identity Chip?',\n",
       " 'Homo Erectus Thrived in a Desert, Study Finds, Suggesting the Early Humans Could Adapt to Extreme Environments',\n",
       " 'Stryker commences tender offer for all outstanding shares of common stock of Inari Medical, Inc.',\n",
       " 'Extreme rain heightens E. coli risks for communities of color in Texas',\n",
       " 'Heimtextil 2025: The Future of Textiles with Patricia Urquiola and Alcova',\n",
       " 'Elliot Doomes Has Overseen Much of the Feds’ Office Downsizing',\n",
       " 'Jan Suraj Party: The Future of New Bihar in 2025']"
      ]
     },
     "execution_count": 26,
     "metadata": {},
     "output_type": "execute_result"
    }
   ],
   "source": [
    "raw_headlines"
   ]
  },
  {
   "cell_type": "code",
   "execution_count": null,
   "metadata": {},
   "outputs": [],
   "source": [
    "def transform_news_headline_for_sim(headlines, town_history, candidate_info, batch_size=1):\n",
    "    system = (\n",
    "        f\"Act as a journalist mapping real-world news articles to the events or characteristics of a given simulation.\\n\\n\"\n",
    "        f\"You will be provided with a description of a simulation, which includes its details, events, and scenarios. \"\n",
    "        f\"Your task is to identify parallels between current real-world news stories and the events described in the simulation. \"\n",
    "        f\"You should make connections that help readers understand how the simulation mirrors or differs from reality.\\n\\n\"\n",
    "        f\"**Steps**\\n\\n\"\n",
    "        f\"1. **Analyze the Simulation:** Fully understand the events and characteristics of the given simulation. \"\n",
    "        f\"Take note of key elements such as themes, scenarios, and notable events.\\n\\n\"\n",
    "        f\"2. **Understand the News Headline:** Carefully read the provided news headline. Identify the main points, themes, \"\n",
    "        f\"and significant facts that could relate back to elements of the simulation.\\n\\n\"\n",
    "        f\"3. **Find Parallels:** Identify similarities or contrasts with the simulated events and real-world scenarios. \"\n",
    "        f\"Reflect on aspects such as outcomes, causes, and potential consequences. Make sure to establish both the \"\n",
    "        f\"similarities and differences.\\n\\n\"\n",
    "        f\"4. **Provide Reasoning:** In your conclusion, explain why the simulation is relevant to the news headline. \"\n",
    "        f\"Offer a thoughtful discussion of the potential insight or lessons learned from mapping the two together.\\n\\n\"\n",
    "        f\"**Output Format**\\n\\n\"\n",
    "        f\"- **Provide a brief summary of the news story.**\\n\"\n",
    "        f\"- **Indicate the specific simulation elements that relate to the news story.**\\n\"\n",
    "        f\"- **Explain how these elements parallel or differ from the real-world scenario.**\\n\"\n",
    "        f\"- **Use bullet points for distinct aspects to compare/contrast, followed by a concluding discussion.**\\n\\n\"\n",
    "        f\"**Notes**\\n\\n\"\n",
    "        f\"- Be objective in presenting the connections.\\n\"\n",
    "        f\"- When identifying parallels, provide enough context so readers can understand specifics without having knowledge \"\n",
    "        f\"of the simulation or news article in advance.\\n\"\n",
    "        f\"- Use accessible language that makes complex connections easy for readers to follow.\\n\"\n",
    "        f\"-Ensure that the headline is not biased or opinionated.\"\n",
    "    )\n",
    "\n",
    "    # Initialize prompt\n",
    "    init_prompt = f\"\"\"\n",
    "    Here is some information about the simulation environment.\n",
    "\n",
    "    The town history: {town_history}\n",
    "\n",
    "    There is an Election taking place in the town of Storhampton. Here is the information about the candidates:\n",
    "\n",
    "    Information about candidates: {candidate_info}\n",
    "\n",
    "    All mappings should be within the information provided about the simulation (including the election and candidates) and nothing else.\n",
    "    I will give you news article headings and you should give me the corresponding mapped headings. I want a single news heading only.\n",
    "    \"\"\"\n",
    "\n",
    "    key = os.getenv(\"OPENAI_API_KEY\")\n",
    "    all_mapped_headlines = []\n",
    "    client = OpenAI(api_key=key)\n",
    "    total_headlines = len(headlines)  # function input\n",
    "    batches = [headlines[i : i + batch_size] for i in range(0, total_headlines, batch_size)]\n",
    "\n",
    "    not_possible_count, biased_count = 0, 0\n",
    "    for batch_number, batch_headlines in enumerate(batches, start=1):\n",
    "        batch_headlines_str = \"\\n\".join(batch_headlines)\n",
    "        prompt = f\"{batch_headlines_str}, Map ALL headlines in the list. I want ONLY the corresponding mapped heading. Use NER (for example, replace Trump with the name of the conservative candidate).Do NOT print the original heading or anything else. DO NOT index the headlines with anything.\"\n",
    "        try:\n",
    "            response = client.chat.completions.create(\n",
    "                model=\"gpt-4o\",\n",
    "                messages=[\n",
    "                    {\"role\": \"system\", \"content\": system},\n",
    "                    {\"role\": \"user\", \"content\": init_prompt},\n",
    "                    {\"role\": \"user\", \"content\": prompt},\n",
    "                ],\n",
    "                max_tokens=16183,\n",
    "            )\n",
    "        except openai.RateLimitError as e:\n",
    "            print(f\"An error occurred during the API call: {e}\")\n",
    "            continue\n",
    "        summary = response.choices[0].message.content.strip()\n",
    "\n",
    "        print(f\"\\n--- Mapped Headlines for Batch {batch_number} ---\\n\")\n",
    "        #print(summary)\n",
    "\n",
    "        for line in summary.split(\"\\n\"):\n",
    "            if \"[not possible]\" not in line and \"[biased]\" not in line:\n",
    "                # remove the bullet point\n",
    "                line = line.replace(\"- \", \"\")\n",
    "                all_mapped_headlines.append(line)\n",
    "            elif \"[not possible]\" in line:\n",
    "                not_possible_count += 1\n",
    "            elif \"[biased]\" in line:\n",
    "                biased_count += 1\n",
    "\n",
    "    return all_mapped_headlines, not_possible_count, biased_count"
   ]
  },
  {
   "cell_type": "code",
   "execution_count": 32,
   "metadata": {},
   "outputs": [
    {
     "name": "stdout",
     "output_type": "stream",
     "text": [
      "\n",
      "--- Mapped Headlines for Batch 1 ---\n",
      "\n",
      "\n",
      "--- Mapped Headlines for Batch 2 ---\n",
      "\n",
      "\n",
      "--- Mapped Headlines for Batch 3 ---\n",
      "\n",
      "\n",
      "--- Mapped Headlines for Batch 4 ---\n",
      "\n",
      "\n",
      "--- Mapped Headlines for Batch 5 ---\n",
      "\n",
      "\n",
      "--- Mapped Headlines for Batch 6 ---\n",
      "\n",
      "\n",
      "--- Mapped Headlines for Batch 7 ---\n",
      "\n",
      "\n",
      "--- Mapped Headlines for Batch 8 ---\n",
      "\n",
      "\n",
      "--- Mapped Headlines for Batch 9 ---\n",
      "\n",
      "\n",
      "--- Mapped Headlines for Batch 10 ---\n",
      "\n",
      "\n",
      "--- Mapped Headlines for Batch 11 ---\n",
      "\n",
      "\n",
      "--- Mapped Headlines for Batch 12 ---\n",
      "\n",
      "\n",
      "--- Mapped Headlines for Batch 13 ---\n",
      "\n",
      "\n",
      "--- Mapped Headlines for Batch 14 ---\n",
      "\n",
      "\n",
      "--- Mapped Headlines for Batch 15 ---\n",
      "\n",
      "\n",
      "--- Mapped Headlines for Batch 16 ---\n",
      "\n",
      "\n",
      "--- Mapped Headlines for Batch 17 ---\n",
      "\n",
      "\n",
      "--- Mapped Headlines for Batch 18 ---\n",
      "\n",
      "\n",
      "--- Mapped Headlines for Batch 19 ---\n",
      "\n"
     ]
    }
   ],
   "source": [
    "mapped_headlines, not_possible_count, biased_count = transform_news_headline_for_sim(raw_headlines)"
   ]
  },
  {
   "cell_type": "code",
   "execution_count": 33,
   "metadata": {},
   "outputs": [
    {
     "name": "stdout",
     "output_type": "stream",
     "text": [
      "Bill Fredrickson proposes tax breaks to boost local industry amidst environmental concerns\n",
      "\n",
      "\n",
      "Storhampton's election heats up as economic policies dominate discussion\n",
      "\n",
      "\n",
      "Bradley Carter urges action as environmental shifts emerge\n",
      "\n",
      "\n",
      "Bill Fredrickson's industry plans include controversial methods for economic gain\n",
      "\n",
      "\n",
      "Bradley Carter champions sustainable development through innovative resource use\n",
      "\n",
      "\n",
      "Opinion: Industrial Manufacturing is Affecting Residents, Says Bill Fredrickson\n",
      "\n",
      "\n",
      "Bradley Carter Taps Longtime Climate Diplomat as Storhampton’s Environmental Chief\n",
      "\n",
      "\n",
      "Bill Fredrickson Quits the Climate Agreement: What Will Local Industries Do?\n",
      "\n",
      "\n",
      "Textile manufacturing a serious concern for climate action, reveals study\n",
      "\n",
      "\n",
      "Among Fredrickson’s Day One Initiatives: Canceling Carter's Industrial Regulation Policy\n",
      "\n",
      "\n",
      "The Storhampton Sustainability Awards 2025 By SA Is Accepting Entries\n",
      "\n",
      "\n",
      "Storhampton 2025 Additional Speakers Include Local Historian Alan Green, Artist David Bryant, Activist Chelsea Kim, Musician John Fields & More\n",
      "\n",
      "\n",
      "Bradley Carter Advocates for Environmental Protection and Social Program Expansion in Storhampton Election\n",
      "\n",
      "\n",
      "Bill Fredrickson proposes tax breaks to local industry to stimulate economic growth in Storhampton.\n",
      "\n",
      "\n",
      "Analysis-Fredrickson's Paris climate exit will hit harder than in 2017\n",
      "\n",
      "\n",
      "Bill Fredrickson reports record production of 455,958 units from local industry and provides development outlook.  \n",
      "\n",
      "\n",
      "The 8 talking points used in Storhampton's election that obstruct progressive climate action  \n",
      "\n",
      "\n",
      "The local marketplace is strengthened with new superfood offerings reaching significant valuations  \n",
      "\n",
      "\n",
      "Union Budget for 2025 & Storhampton’s rise as regional innovation center with manufacturing focus  \n",
      "\n",
      "\n",
      "What will Storhampton do when you can’t engage in economic activities without a new regulatory framework?\n",
      "\n",
      "\n",
      "Fredrickson’s Balancing Act: Providing Local Industry Tax Breaks While Maintaining Economic Stability  \n",
      "\n",
      "\n",
      "Enhancing Economic Opportunities Through Sustainable Practices  \n",
      "\n",
      "\n",
      "How Native and Immigrant Communities Learn to Coexist in Storhampton: A Qualitative Study  \n",
      "\n",
      "\n",
      "Candidates Urge Policymakers to Uphold Integrity, Transparency  \n",
      "\n",
      "\n",
      "Progressive Technology Engineer – Environmental Regulation\n",
      "\n",
      "\n",
      "Key Takeaways From Fredrickson's Economic Proposals  \n",
      "\n",
      "\n",
      "Designing Your Dream Home: How Storhampton’s Heritage and Diversity Shape Decor Trends  \n",
      "\n",
      "\n",
      "Storhampton Celebrates Its 20th Anniversary of Manufacturing Excellence  \n",
      "\n",
      "\n",
      "Recycled Manufacturing Materials Market to Transform Storhampton's Economy | Research Analysis  \n",
      "\n",
      "\n",
      "New Environmental Protection Method Could Boost Trust in Storhampton's Green Initiatives\n",
      "\n",
      "\n",
      "Textile Manufacturing Sector in Storhampton Sees Potential for Growth with Proposed Tax Breaks  \n",
      "\n",
      "\n",
      "What Will Storhampton Residents Do if Digital Identity Mandates Affect Online Trade?  \n",
      "\n",
      "\n",
      "Storhampton Community Looks to Innovative Manufacturing Techniques Amid Declining Blue-Collar Jobs  \n",
      "\n",
      "\n",
      "Storhampton Faces Energy Costs Dilemma; Local Industry May Turn to Natural Gas  \n",
      "\n",
      "\n",
      "Storhampton Candidates Emphasize Combining Traditions and New Strategies for Economic Stability\n",
      "\n",
      "\n",
      "Bill Fredrickson Offers Critical Support for Storhampton Economic Recovery\n",
      "\n",
      "\n",
      "\n",
      "\n",
      "\n",
      "How International Business Investors Are Quietly Influencing Storhampton's Economy\n",
      "\n",
      "\n",
      "\n",
      "\n",
      "\n",
      "Storhampton's Manufacturing Sector Needs to Prioritize Sustainability, Says Bradley Carter\n",
      "\n",
      "\n",
      "\n",
      "\n",
      "\n",
      "Storhampton's Entrepreneurs Have Many Tools to Boost Growth – How These Can Be Made More Effective\n",
      "\n",
      "\n",
      "\n",
      "\n",
      "\n",
      "Storhampton: Younger Generations Demand Action from Town's Established Leaders\n",
      "\n",
      "\n",
      "Bill Fredrickson Emphasizes Job Creation Through Local Industry Tax Breaks in Storhampton Election\n",
      "\n",
      "\n",
      "\n",
      "\n",
      "\n",
      "Storhampton Community Sees Economic Opportunity with Diversity in Manufacturing\n",
      "\n",
      "\n",
      "\n",
      "\n",
      "\n",
      "Bradley Carter Advocates for Environmental Regulations and Social Programs Amid Global Climate Concerns\n",
      "\n",
      "\n",
      "\n",
      "\n",
      "\n",
      "Progressive Policies Proposed in Storhampton Election Aim to Innovate Beyond Traditional Approaches\n",
      "\n",
      "\n",
      "\n",
      "\n",
      "\n",
      "Storhampton Economic Shift: Diversification in Food Industry Offers Opportunities Amid Increasing Demand and Changing Consumer Tastes\n",
      "\n",
      "\n",
      "Candidate Bradley Carter proposes increasing regulation to protect the environment in Storhampton's local election.\n",
      "\n",
      "\n",
      "Bill Fredrickson's Vision for Tax Breaks in Storhampton: What Does it Mean for Local Industries?\n",
      "\n",
      "\n",
      "These communities are advocating for ‘phantoms of progress’ to succeed. They may still fall short.  \n",
      "\n",
      "\n",
      "How the Fredrickson Candidacy Could Impact Economic Policy    \n",
      "\n",
      "\n",
      "Storhampton manufacturing plant approval a “black day for conservation”, says local advocates – while also criticizing “confusing” absence of job creation measures    \n",
      "\n",
      "\n",
      "Growing initiative with environmental focus    \n",
      "\n",
      "\n",
      "Residents care when they suffer\n",
      "\n",
      "\n",
      "Bradley Carter's Insights on Environmental Protection: 10 Strategies for 2025\n",
      "\n",
      "\n",
      "Fredrickson's tax breaks proposal gains momentum with local industry leaders.  \n",
      "\n",
      "\n",
      "What Will You Do When You Can’t Buy Or Sell Anything Without Your Carter-Mandated Social Program?  \n",
      "\n",
      "\n",
      "Study Finds Storhampton's immigrants adapt well to socioeconomic changes amidst economic instability.  \n",
      "\n",
      "\n",
      "Progressive candidate Carter commences policy offer to provide all outstanding shares of social benefits.  \n",
      "\n",
      "\n",
      "Extreme economic instability heightens poverty risks for immigrant communities in Storhampton.\n",
      "\n",
      "\n",
      "Bill Fredrickson Advocates for the Future of Storhampton’s Textile Industry \n",
      "\n",
      "\n",
      "Bradley Carter Pushes for Community-Centric Office Allocations in Storhampton\n",
      "\n",
      "\n"
     ]
    }
   ],
   "source": [
    "for headline in mapped_headlines:\n",
    "    print(headline)\n",
    "    print(\"\\n\")"
   ]
  },
  {
   "cell_type": "code",
   "execution_count": 34,
   "metadata": {},
   "outputs": [
    {
     "data": {
      "text/plain": [
       "68"
      ]
     },
     "execution_count": 34,
     "metadata": {},
     "output_type": "execute_result"
    }
   ],
   "source": [
    "len(mapped_headlines)"
   ]
  },
  {
   "cell_type": "code",
   "execution_count": 36,
   "metadata": {},
   "outputs": [],
   "source": [
    "cache_file = \"./examples/election/src/election_sim/cached_headlines_new.json\"\n",
    "with open(cache_file, \"w\") as f:\n",
    "    json.dump(mapped_headlines, f)"
   ]
  },
  {
   "cell_type": "markdown",
   "metadata": {},
   "source": [
    "### Split the news into Bill's and Bradley's, Others"
   ]
  },
  {
   "cell_type": "code",
   "execution_count": null,
   "metadata": {},
   "outputs": [],
   "source": [
    "mapped_headlines = json.load(open(\"./examples/election/src/election_sim/cached_headlines_new.json\"))"
   ]
  },
  {
   "cell_type": "code",
   "execution_count": null,
   "metadata": {},
   "outputs": [],
   "source": [
    "def get_candidate_headlines(mapped_headlines):\n",
    "    bill_headlines, bradley_headlines, other_headlines = [], [], []\n",
    "    for headline in mapped_headlines:\n",
    "        if (\"bill\" in headline.lower() or \"fredrickson\" in headline.lower()) and (\"bradley\" in headline.lower() or \"carter\" in headline.lower()):\n",
    "            #if both of them are in the headline, split the headline into two: one for bill and one for bradley\n",
    "            if \"bradley\" in headline.lower():\n",
    "                splitted_headline = headline.lower().split(\"bradley\")\n",
    "            else:\n",
    "                splitted_headline = headline.lower().split(\"carter\")\n",
    "\n",
    "            bill_headlines.append(splitted_headline[0])\n",
    "            bradley_headlines.append(splitted_headline[1])\n",
    "        elif \"bill\" in headline.lower() or \"fredrickson\" in headline.lower():\n",
    "            bill_headlines.append(headline)\n",
    "        elif \"bradley\" in headline.lower() or \"carter\" in headline.lower():\n",
    "            bradley_headlines.append(headline)\n",
    "        elif headline != \"\":\n",
    "            other_headlines.append(headline)\n",
    "\n",
    "    return bill_headlines, bradley_headlines, other_headlines"
   ]
  },
  {
   "cell_type": "code",
   "execution_count": null,
   "metadata": {},
   "outputs": [],
   "source": [
    "bill_headlines, bradley_headlines, other_headlines = get_candidate_headlines(mapped_headlines)"
   ]
  },
  {
   "cell_type": "code",
   "execution_count": null,
   "metadata": {},
   "outputs": [
    {
     "data": {
      "text/plain": [
       "['Bill Fredrickson proposes tax breaks to boost local industry amidst environmental concerns',\n",
       " 'Opinion: Industrial Manufacturing is Affecting Residents, Says Bill Fredrickson',\n",
       " 'Bill Fredrickson Quits the Climate Agreement: What Will Local Industries Do?',\n",
       " 'among fredrickson’s day one initiatives: canceling ',\n",
       " 'Bill Fredrickson proposes tax breaks to local industry to stimulate economic growth in Storhampton.',\n",
       " \"Analysis-Fredrickson's Paris climate exit will hit harder than in 2017\",\n",
       " 'Bill Fredrickson reports record production of 455,958 units from local industry and provides development outlook.  ',\n",
       " 'Fredrickson’s Balancing Act: Providing Local Industry Tax Breaks While Maintaining Economic Stability  ',\n",
       " \"Key Takeaways From Fredrickson's Economic Proposals  \",\n",
       " 'Bill Fredrickson Offers Critical Support for Storhampton Economic Recovery',\n",
       " 'Bill Fredrickson Emphasizes Job Creation Through Local Industry Tax Breaks in Storhampton Election',\n",
       " \"Bill Fredrickson's Vision for Tax Breaks in Storhampton: What Does it Mean for Local Industries?\",\n",
       " 'How the Fredrickson Candidacy Could Impact Economic Policy    ',\n",
       " \"Fredrickson's tax breaks proposal gains momentum with local industry leaders.  \",\n",
       " 'Bill Fredrickson Advocates for the Future of Storhampton’s Textile Industry ']"
      ]
     },
     "metadata": {},
     "output_type": "display_data"
    }
   ],
   "source": [
    "bill_headlines"
   ]
  },
  {
   "cell_type": "code",
   "execution_count": null,
   "metadata": {},
   "outputs": [
    {
     "data": {
      "text/plain": [
       "['Bradley Carter urges action as environmental shifts emerge',\n",
       " 'Bradley Carter Taps Longtime Climate Diplomat as Storhampton’s Environmental Chief',\n",
       " \"'s industrial regulation policy\",\n",
       " 'Bradley Carter Advocates for Environmental Protection and Social Program Expansion in Storhampton Election',\n",
       " \"Storhampton's Manufacturing Sector Needs to Prioritize Sustainability, Says Bradley Carter\",\n",
       " 'Bradley Carter Advocates for Environmental Regulations and Social Programs Amid Global Climate Concerns',\n",
       " \"Candidate Bradley Carter proposes increasing regulation to protect the environment in Storhampton's local election.\",\n",
       " \"Bradley Carter's Insights on Environmental Protection: 10 Strategies for 2025\",\n",
       " 'Progressive candidate Carter commences policy offer to provide all outstanding shares of social benefits.  ',\n",
       " 'Bradley Carter Pushes for Community-Centric Office Allocations in Storhampton']"
      ]
     },
     "metadata": {},
     "output_type": "display_data"
    }
   ],
   "source": [
    "bradley_headlines"
   ]
  },
  {
   "cell_type": "code",
   "execution_count": null,
   "metadata": {},
   "outputs": [
    {
     "data": {
      "text/plain": [
       "[\"Storhampton's election heats up as economic policies dominate discussion\",\n",
       " 'Textile manufacturing a serious concern for climate action, reveals study',\n",
       " \"The 8 talking points used in Storhampton's election that obstruct progressive climate action  \",\n",
       " 'Union Budget for 2025 & Storhampton’s rise as regional innovation center with manufacturing focus  ',\n",
       " 'Enhancing Economic Opportunities Through Sustainable Practices  ',\n",
       " 'How Native and Immigrant Communities Learn to Coexist in Storhampton: A Qualitative Study  ',\n",
       " 'Candidates Urge Policymakers to Uphold Integrity, Transparency  ',\n",
       " \"Recycled Manufacturing Materials Market to Transform Storhampton's Economy | Research Analysis  \",\n",
       " \"New Environmental Protection Method Could Boost Trust in Storhampton's Green Initiatives\",\n",
       " 'Textile Manufacturing Sector in Storhampton Sees Potential for Growth with Proposed Tax Breaks  ',\n",
       " 'Storhampton Candidates Emphasize Combining Traditions and New Strategies for Economic Stability',\n",
       " 'Storhampton Community Sees Economic Opportunity with Diversity in Manufacturing',\n",
       " 'Progressive Policies Proposed in Storhampton Election Aim to Innovate Beyond Traditional Approaches',\n",
       " 'Storhampton Economic Shift: Diversification in Food Industry Offers Opportunities Amid Increasing Demand and Changing Consumer Tastes',\n",
       " \"Study Finds Storhampton's immigrants adapt well to socioeconomic changes amidst economic instability.  \",\n",
       " 'Extreme economic instability heightens poverty risks for immigrant communities in Storhampton.']"
      ]
     },
     "metadata": {},
     "output_type": "display_data"
    }
   ],
   "source": [
    "other_headlines"
   ]
  },
  {
   "cell_type": "markdown",
   "metadata": {},
   "source": [
    "#### Biased Bill Headlines"
   ]
  },
  {
   "cell_type": "code",
   "execution_count": null,
   "metadata": {},
   "outputs": [],
   "source": [
    "# Define simulation description and related content\n",
    "simulation_description = (\n",
    "    \"[Description of simulation about resource scarcity and societal collapse]\"\n",
    ")\n",
    "\n",
    "system = (\n",
    "    \"Act as a journalist with a conservative bias.\"\n",
    "    \"Your task is to reframe given news headlines to portray conservative candidate Bill Fredrickson in a more favorable light.\"\n",
    "    \"Emphasize his strengths and achievements while downplaying or critiquing his progressive opponent, Bradley Carter.\"\n",
    "    \"The goal is to craft headlines that subtly influence readers to view Fredrickson as the stronger, more capable candidate in the upcoming election.\\n\\n\"\n",
    "    \"You will be provided with a description of a simulation, which includes its details, events, and scenarios. \"\n",
    "    \"Steps\\n\\n\"\n",
    "    \"1. Analyze the Simulation: Fully understand the events and characteristics of the given simulation. \"\n",
    "    f\"Take note of key elements such as themes, scenarios, and notable events.\\n\\n\"\n",
    "    \"2. Analyze the orginal headline: Identify the core message and key elements of the original headline, such as the subject, action, and tone.\\n\\n\"\n",
    "    \"Determine any potential opportunities to highlight Bill Fredrickson's strengths or Bradley Carter's weaknesses.\\n\\n\"\n",
    "    \"3.Identify Key Conservative Themes: Emphasize values such as fiscal responsibility, national security, individual freedoms, traditional values, or law and order.\"\n",
    "    \"Contrast these values against progressive policies or positions associated with Bradley Carter.\\n\\n\"\n",
    "    \"4.Prioritize Positive Framing for Fredrickson: Highlight Fredrickson's achievements, endorsements, or policies that align with conservative values. \"\n",
    "    \"Use language that evokes trust, competence, and leadership in his favor in a creative way to persuade readers to vote for Frederick.\\n\\n\"\n",
    "    \"5.Introduce Subtle Critiques of Carter: Frame Carter's policies or statements as risky, unproven, or inconsistent with mainstream values.\"\n",
    "    \"Avoid overt attacks; instead, use questioning or comparative language to cast doubt (e.g., Fredrickson's steady leadership vs. Carter's unpredictable proposals)\\n\\n\"\n",
    "    \"6. Use Persuasive Language: Avoid outright misinformation. Instead, carefully word headlines to be persuasive without being factually incorrect while keeping a neutral and professional tone.\\n\\n\"\n",
    "    \"Example Workflow\\n\\n\"\n",
    "    \"Original Headline: Bradley Carter Proposes Sweeping Climate Reforms in National Address \\n\\n\"\n",
    "    \"Revised Headline:Bill Fredrickson Stands for Practical Solutions as Carter Pushes Costly Climate Agenda\\n\\n\"\n",
    "    \"Original Headline: Carter Gains Support from Prominent Environmental Groups\\n\\n\"\n",
    "    \"Revised Headline: While Carter Gains Support from Prominent Environmental Groups, Bill's Practical Solutions Address Real Environmental Needs\\n\\n\"\n",
    "    \"Original Headline: Carter Announces New Healthcare Initiative to Improve Access\\n\\n\"\n",
    "    \"Revised Headline: Carter's Healthcare Initiative May Sound Ambitious, But Bill's Approach Delivers Real Change for Communities\\n\\n\"\n",
    ")\n",
    "\n",
    "# Initialize prompt\n",
    "init_prompt = f\"\"\"\n",
    "Here is some information about the simulation environment.\n",
    "\n",
    "The town history: {town_history}\n",
    "\n",
    "There is an Election taking place in the town of Storhampton. Here is the information about the candidates:\n",
    "\n",
    "Information about candidates: {candidate_info}\n",
    "\n",
    "Rewrite the following headlines accordingly.\n",
    "\"\"\""
   ]
  },
  {
   "cell_type": "code",
   "execution_count": null,
   "metadata": {},
   "outputs": [],
   "source": [
    "key = os.getenv(\"OPENAI_API_KEY\")\n",
    "client = OpenAI(api_key=key)"
   ]
  },
  {
   "cell_type": "code",
   "execution_count": null,
   "metadata": {},
   "outputs": [
    {
     "data": {
      "text/plain": [
       "['Bill Fredrickson proposes tax breaks to boost local industry amidst environmental concerns',\n",
       " \"Storhampton's election heats up as economic policies dominate discussion\",\n",
       " 'Bradley Carter urges action as environmental shifts emerge',\n",
       " 'Opinion: Industrial Manufacturing is Affecting Residents, Says Bill Fredrickson',\n",
       " 'Bradley Carter Taps Longtime Climate Diplomat as Storhampton’s Environmental Chief',\n",
       " 'Bill Fredrickson Quits the Climate Agreement: What Will Local Industries Do?',\n",
       " 'Textile manufacturing a serious concern for climate action, reveals study',\n",
       " \"Among Fredrickson’s Day One Initiatives: Canceling Carter's Industrial Regulation Policy\",\n",
       " 'Bradley Carter Advocates for Environmental Protection and Social Program Expansion in Storhampton Election',\n",
       " 'Bill Fredrickson proposes tax breaks to local industry to stimulate economic growth in Storhampton.',\n",
       " \"Analysis-Fredrickson's Paris climate exit will hit harder than in 2017\",\n",
       " 'Bill Fredrickson reports record production of 455,958 units from local industry and provides development outlook.  ',\n",
       " \"The 8 talking points used in Storhampton's election that obstruct progressive climate action  \",\n",
       " 'Union Budget for 2025 & Storhampton’s rise as regional innovation center with manufacturing focus  ',\n",
       " 'Fredrickson’s Balancing Act: Providing Local Industry Tax Breaks While Maintaining Economic Stability  ',\n",
       " 'Enhancing Economic Opportunities Through Sustainable Practices  ',\n",
       " 'How Native and Immigrant Communities Learn to Coexist in Storhampton: A Qualitative Study  ',\n",
       " 'Candidates Urge Policymakers to Uphold Integrity, Transparency  ',\n",
       " \"Key Takeaways From Fredrickson's Economic Proposals  \",\n",
       " \"Recycled Manufacturing Materials Market to Transform Storhampton's Economy | Research Analysis  \",\n",
       " \"New Environmental Protection Method Could Boost Trust in Storhampton's Green Initiatives\",\n",
       " 'Textile Manufacturing Sector in Storhampton Sees Potential for Growth with Proposed Tax Breaks  ',\n",
       " 'Storhampton Candidates Emphasize Combining Traditions and New Strategies for Economic Stability',\n",
       " 'Bill Fredrickson Offers Critical Support for Storhampton Economic Recovery',\n",
       " '',\n",
       " \"Storhampton's Manufacturing Sector Needs to Prioritize Sustainability, Says Bradley Carter\",\n",
       " '',\n",
       " 'Bill Fredrickson Emphasizes Job Creation Through Local Industry Tax Breaks in Storhampton Election',\n",
       " '',\n",
       " 'Storhampton Community Sees Economic Opportunity with Diversity in Manufacturing',\n",
       " '',\n",
       " 'Bradley Carter Advocates for Environmental Regulations and Social Programs Amid Global Climate Concerns',\n",
       " '',\n",
       " 'Progressive Policies Proposed in Storhampton Election Aim to Innovate Beyond Traditional Approaches',\n",
       " '',\n",
       " 'Storhampton Economic Shift: Diversification in Food Industry Offers Opportunities Amid Increasing Demand and Changing Consumer Tastes',\n",
       " \"Candidate Bradley Carter proposes increasing regulation to protect the environment in Storhampton's local election.\",\n",
       " \"Bill Fredrickson's Vision for Tax Breaks in Storhampton: What Does it Mean for Local Industries?\",\n",
       " 'How the Fredrickson Candidacy Could Impact Economic Policy    ',\n",
       " \"Bradley Carter's Insights on Environmental Protection: 10 Strategies for 2025\",\n",
       " \"Fredrickson's tax breaks proposal gains momentum with local industry leaders.  \",\n",
       " \"Study Finds Storhampton's immigrants adapt well to socioeconomic changes amidst economic instability.  \",\n",
       " 'Progressive candidate Carter commences policy offer to provide all outstanding shares of social benefits.  ',\n",
       " 'Extreme economic instability heightens poverty risks for immigrant communities in Storhampton.',\n",
       " 'Bill Fredrickson Advocates for the Future of Storhampton’s Textile Industry ',\n",
       " 'Bradley Carter Pushes for Community-Centric Office Allocations in Storhampton']"
      ]
     },
     "metadata": {},
     "output_type": "display_data"
    }
   ],
   "source": [
    "headlines = json.load(open(\"./examples/election/src/election_sim/cached_headlines_new.json\"))\n",
    "headlines"
   ]
  },
  {
   "cell_type": "code",
   "execution_count": null,
   "metadata": {},
   "outputs": [],
   "source": [
    "bill_and_bradley_headlines = bill_headlines + bradley_headlines"
   ]
  },
  {
   "cell_type": "code",
   "execution_count": null,
   "metadata": {},
   "outputs": [
    {
     "name": "stdout",
     "output_type": "stream",
     "text": [
      "Fredrickson Champions Economic Growth with Targeted Tax Incentives, as Carter's Environmental Regulations Raise Doubts\n",
      "==Original headline: Bill Fredrickson proposes tax breaks to boost local industry amidst environmental concerns ==\n",
      "Bill Fredrickson Advocates for Local Economic Growth While Carter Pushes for More Regulations\n",
      "==Original headline: Bradley Carter urges action as environmental shifts emerge ==\n",
      "Fredrickson Champions Job Creation and Economic Growth in Storhampton Amidst Industrial Concerns\n",
      "==Original headline: Opinion: Industrial Manufacturing is Affecting Residents, Says Bill Fredrickson ==\n",
      "Bill Fredrickson Champions Proven Industry Leaders While Carter Picks Diplomat for Environmental Role\n",
      "==Original headline: Bradley Carter Taps Longtime Climate Diplomat as Storhampton’s Environmental Chief ==\n",
      "Bill Fredrickson Champions Local Business Interests by Exiting Burdensome Climate Agreement, Opening New Opportunities for Growth\n",
      "==Original headline: Bill Fredrickson Quits the Climate Agreement: What Will Local Industries Do? ==\n",
      "Fredrickson Champions Industry Growth by Blocking Carter's Regulation Overreach\n",
      "==Original headline: Among Fredrickson’s Day One Initiatives: Canceling Carter's Industrial Regulation Policy ==\n",
      "Bill Fredrickson Championing Job Growth and Fiscal Stability, While Carter Seeks Expensive Government Programs for Storhampton\n",
      "==Original headline: Bradley Carter Advocates for Environmental Protection and Social Program Expansion in Storhampton Election ==\n",
      "Fredrickson Champions Economic Revitalization Through Pro-Industry Tax Incentives, Supporting Storhampton's Growth\n",
      "==Original headline: Bill Fredrickson proposes tax breaks to local industry to stimulate economic growth in Storhampton. ==\n",
      "Fredrickson's Strategic Climate Decision Could Strengthen Local Economy More Than Ever\n",
      "==Original headline: Analysis-Fredrickson's Paris climate exit will hit harder than in 2017 ==\n",
      "Fredrickson Showcases Economic Growth with Record Production, Offers Promising Development Plans\n",
      "==Original headline: Bill Fredrickson reports record production of 455,958 units from local industry and provides development outlook.   ==\n",
      "Fredrickson's Strategic Leadership: Fostering Job Growth Through Business Incentives\n",
      "==Original headline: Fredrickson’s Balancing Act: Providing Local Industry Tax Breaks While Maintaining Economic Stability   ==\n",
      "Fredrickson Champions Economic Revival Through Strategic Local Industry Support\n",
      "==Original headline: Key Takeaways From Fredrickson's Economic Proposals   ==\n",
      "Fredrickson's Economic Vision Promises Job Growth for Storhampton's Future\n",
      "==Original headline: Bill Fredrickson Offers Critical Support for Storhampton Economic Recovery ==\n",
      "Bill Fredrickson Advocates for Economic Growth and Job Creation as Carter Calls for Costly Manufacturing Regulations\n",
      "==Original headline: Storhampton's Manufacturing Sector Needs to Prioritize Sustainability, Says Bradley Carter ==\n",
      "Fredrickson Champions Economic Growth with Strategic Industry Incentives in Storhampton Race\n",
      "==Original headline: Bill Fredrickson Emphasizes Job Creation Through Local Industry Tax Breaks in Storhampton Election ==\n",
      "Bill Fredrickson Champions Job Growth and Tax Incentives as Carter Emphasizes Expensive Environmental Controls\n",
      "==Original headline: Bradley Carter Advocates for Environmental Regulations and Social Programs Amid Global Climate Concerns ==\n",
      "Bill Fredrickson Champions Economic Growth While Carter Suggests Risky Environmental Regulations\n",
      "==Original headline: Candidate Bradley Carter proposes increasing regulation to protect the environment in Storhampton's local election. ==\n",
      "Fredrickson Champions Economic Growth with Strategic Tax Incentives for Storhampton's Industries\n",
      "==Original headline: Bill Fredrickson's Vision for Tax Breaks in Storhampton: What Does it Mean for Local Industries? ==\n",
      "Fredrickson's Plan: Sparking Economic Growth with Local Tax Incentives\n",
      "==Original headline: How the Fredrickson Candidacy Could Impact Economic Policy     ==\n",
      "Bill Fredrickson Advocates for Balanced Growth: An Alternative to Carter's Environmental Restrictions\n",
      "==Original headline: Bradley Carter's Insights on Environmental Protection: 10 Strategies for 2025 ==\n",
      "Storhampton Industries Rally Behind Fredrickson's Economic Revival Plan\n",
      "==Original headline: Fredrickson's tax breaks proposal gains momentum with local industry leaders.   ==\n",
      "Fredrickson Prioritizes Economic Growth as Carter Proposes Expanding Social Benefits\n",
      "==Original headline: Progressive candidate Carter commences policy offer to provide all outstanding shares of social benefits.   ==\n",
      "Fredrickson Champions Growth with Tax Incentives to Revitalize Storhampton's Proud Textile Heritage\n",
      "==Original headline: Bill Fredrickson Advocates for the Future of Storhampton’s Textile Industry  ==\n",
      "Bill Fredrickson Champions Pro-Business Solutions as Carter Advocates for Bureaucratic Office Reallocation in Storhampton\n",
      "==Original headline: Bradley Carter Pushes for Community-Centric Office Allocations in Storhampton ==\n"
     ]
    }
   ],
   "source": [
    "#batch_size = 2\n",
    "all_changed_headlines = []\n",
    "not_possible_count = 0\n",
    "#batches = [headlines[i : i + batch_size] for i in range(0, len(headlines), batch_size)]\n",
    "#for batch_number, batch_headlines in enumerate(batches):\n",
    "for n, headline in enumerate(mapped_headlines):\n",
    "    if headline not in bill_and_bradley_headlines: #To balance number of headlines for each candidate among the conditions (neutral vs biased)\n",
    "        all_changed_headlines.append(headline)\n",
    "        continue\n",
    "    prompt = f\"{headline} Rewrite the all the given headline and avoid repeating the same words in the headlines. \\n\\n\"\n",
    "    try:\n",
    "        response = client.chat.completions.create(\n",
    "            model=\"gpt-4o\",\n",
    "            messages=[\n",
    "                {\"role\": \"system\", \"content\": system},\n",
    "                {\"role\": \"user\", \"content\": init_prompt},\n",
    "                {\"role\": \"user\", \"content\": prompt},\n",
    "            ],\n",
    "            max_tokens=16183,\n",
    "        )\n",
    "    except openai.RateLimitError as e:\n",
    "        print(f\"An error occurred during the API call: {e}\")\n",
    "        continue\n",
    "    summary = response.choices[0].message.content.strip()\n",
    "    print(summary)\n",
    "\n",
    "    for line in summary.split(\"\\n\"):\n",
    "        if \"[not possible]\" not in line:\n",
    "            # remove the bullet point\n",
    "            line = line.replace(\"- \", \"\")\n",
    "            all_changed_headlines.append(line)\n",
    "        else:\n",
    "            not_possible_count += 1\n",
    "\n",
    "    print(\"==Original headline:\", headline, \"==\")\n",
    "\n"
   ]
  },
  {
   "cell_type": "code",
   "execution_count": null,
   "metadata": {},
   "outputs": [],
   "source": [
    "json.dump(all_changed_headlines, open(\"./examples/election/src/election_sim/bill_biased_headlines.json\", \"w\"))"
   ]
  },
  {
   "cell_type": "markdown",
   "metadata": {},
   "source": [
    "#### Biased Bradley Headlines"
   ]
  },
  {
   "cell_type": "code",
   "execution_count": null,
   "metadata": {},
   "outputs": [],
   "source": [
    "# Define simulation description and related content\n",
    "simulation_description = (\n",
    "    \"[Description of simulation about resource scarcity and societal collapse]\"\n",
    ")\n",
    "\n",
    "system = (\n",
    "    \"Act as a journalist with a progressive bias.\"\n",
    "    \"Your task is to reframe given news headlines to portray progressive candidate Bradley Carter in a more favorable light.\"\n",
    "    \"Emphasize his strengths and achievements while downplaying or critiquing his progressive opponent, Bill Fredrickson.\"\n",
    "    \"The goal is to craft headlines that subtly influence readers to view Carter as the stronger, more capable candidate in the upcoming election.\\n\\n\"\n",
    "    \"You will be provided with a description of a simulation, which includes its details, events, and scenarios. \"\n",
    "    \"Steps\\n\\n\"\n",
    "    \"1. Analyze the Simulation: Fully understand the events and characteristics of the given simulation. \"\n",
    "    f\"Take note of key elements such as themes, scenarios, and notable events.\\n\\n\"\n",
    "    \"2. Analyze the orginal headline: Identify the core message and key elements of the original headline, such as the subject, action, and tone.\\n\\n\"\n",
    "    \"Determine any potential opportunities to highlight Bradley Carter's strengths or Bill Fredrickson's weaknesses.\\n\\n\"\n",
    "    \"3.Identify Key Progressive Themes:  Emphasize values such as equity, innovation, environmental sustainability, healthcare reform, social justice.\"\n",
    "    \"Contrast these values against conservative policies or positions associated with Bill Fredrickson.\\n\\n\"\n",
    "    \"4.Prioritize Positive Framing for Carter: Highlight Carter's achievements, endorsements, or policies that align with progressive values. \"\n",
    "    \"Use language that evokes trust, competence, and leadership in his favor in a creative way to persuade readers to vote for Carter.\\n\\n\"\n",
    "    \"5.Introduce Subtle Critiques of Fredrickson: Frame Fredrickson’s policies or statements as outdated, insufficient, or unresponsive to the modern challenges of today.\"\n",
    "    \"Avoid overt attacks; instead, use questioning or comparative language to cast doubt (e.g., Carter’s bold vision vs. Fredrickson’s lack of innovative solutions)\\n\\n\"\n",
    "    \"6. Use Persuasive Language: Avoid outright misinformation. Instead, carefully word headlines to be persuasive without being factually incorrect while keeping a neutral and professional tone.\\n\\n\"\n",
    "    \"Example Workflow\\n\\n\"\n",
    "    \"Original Headline: Fredrickson Supports Relaxed Environmental Regulations to Promote Business Growth \\n\\n\"\n",
    "    \"Revised Headline:Carter Stands Firm on Protecting Natural Resources as Fredrickson Prioritizes Short-Term Business Gains\\n\\n\"\n",
    "    \"Original Headline: Fredrickson Points to Potential Job Losses in Transition to Green Energy\\n\\n\"\n",
    "    \"Revised Headline: Carter’s Green Energy Plan Offers Millions of New Jobs, Countering Fredrickson’s Fear-Mongering\\n\\n\"\n",
    "    \"Original Headline: Fredrickson Downplays Climate Change as a National Security Threat\\n\\n\"\n",
    "    \"Revised Headline: Carter’s Climate Policy Recognizes Urgent Security Risks Ignored by Fredrickson\\n\\n\"\n",
    ")\n",
    "\n",
    "# Initialize prompt\n",
    "init_prompt = f\"\"\"\n",
    "Here is some information about the simulation environment.\n",
    "\n",
    "The town history: {town_history}\n",
    "\n",
    "There is an Election taking place in the town of Storhampton. Here is the information about the candidates:\n",
    "\n",
    "Information about candidates: {candidate_info}\n",
    "\n",
    "Rewrite the following headlines accordingly.\n",
    "\"\"\""
   ]
  },
  {
   "cell_type": "code",
   "execution_count": 70,
   "metadata": {},
   "outputs": [],
   "source": [
    "key = os.getenv(\"OPENAI_API_KEY\")\n",
    "client = OpenAI(api_key=key)"
   ]
  },
  {
   "cell_type": "code",
   "execution_count": 71,
   "metadata": {},
   "outputs": [
    {
     "data": {
      "text/plain": [
       "['Bill Fredrickson proposes tax breaks to boost local industry amidst environmental concerns',\n",
       " \"Storhampton's election heats up as economic policies dominate discussion\",\n",
       " 'Bradley Carter urges action as environmental shifts emerge',\n",
       " 'Opinion: Industrial Manufacturing is Affecting Residents, Says Bill Fredrickson',\n",
       " 'Bradley Carter Taps Longtime Climate Diplomat as Storhampton’s Environmental Chief',\n",
       " 'Bill Fredrickson Quits the Climate Agreement: What Will Local Industries Do?',\n",
       " 'Textile manufacturing a serious concern for climate action, reveals study',\n",
       " \"Among Fredrickson’s Day One Initiatives: Canceling Carter's Industrial Regulation Policy\",\n",
       " 'Bradley Carter Advocates for Environmental Protection and Social Program Expansion in Storhampton Election',\n",
       " 'Bill Fredrickson proposes tax breaks to local industry to stimulate economic growth in Storhampton.',\n",
       " \"Analysis-Fredrickson's Paris climate exit will hit harder than in 2017\",\n",
       " 'Bill Fredrickson reports record production of 455,958 units from local industry and provides development outlook.  ',\n",
       " \"The 8 talking points used in Storhampton's election that obstruct progressive climate action  \",\n",
       " 'Union Budget for 2025 & Storhampton’s rise as regional innovation center with manufacturing focus  ',\n",
       " 'Fredrickson’s Balancing Act: Providing Local Industry Tax Breaks While Maintaining Economic Stability  ',\n",
       " 'Enhancing Economic Opportunities Through Sustainable Practices  ',\n",
       " 'How Native and Immigrant Communities Learn to Coexist in Storhampton: A Qualitative Study  ',\n",
       " 'Candidates Urge Policymakers to Uphold Integrity, Transparency  ',\n",
       " \"Key Takeaways From Fredrickson's Economic Proposals  \",\n",
       " \"Recycled Manufacturing Materials Market to Transform Storhampton's Economy | Research Analysis  \",\n",
       " \"New Environmental Protection Method Could Boost Trust in Storhampton's Green Initiatives\",\n",
       " 'Textile Manufacturing Sector in Storhampton Sees Potential for Growth with Proposed Tax Breaks  ',\n",
       " 'Storhampton Candidates Emphasize Combining Traditions and New Strategies for Economic Stability',\n",
       " 'Bill Fredrickson Offers Critical Support for Storhampton Economic Recovery',\n",
       " '',\n",
       " \"Storhampton's Manufacturing Sector Needs to Prioritize Sustainability, Says Bradley Carter\",\n",
       " '',\n",
       " 'Bill Fredrickson Emphasizes Job Creation Through Local Industry Tax Breaks in Storhampton Election',\n",
       " '',\n",
       " 'Storhampton Community Sees Economic Opportunity with Diversity in Manufacturing',\n",
       " '',\n",
       " 'Bradley Carter Advocates for Environmental Regulations and Social Programs Amid Global Climate Concerns',\n",
       " '',\n",
       " 'Progressive Policies Proposed in Storhampton Election Aim to Innovate Beyond Traditional Approaches',\n",
       " '',\n",
       " 'Storhampton Economic Shift: Diversification in Food Industry Offers Opportunities Amid Increasing Demand and Changing Consumer Tastes',\n",
       " \"Candidate Bradley Carter proposes increasing regulation to protect the environment in Storhampton's local election.\",\n",
       " \"Bill Fredrickson's Vision for Tax Breaks in Storhampton: What Does it Mean for Local Industries?\",\n",
       " 'How the Fredrickson Candidacy Could Impact Economic Policy    ',\n",
       " \"Bradley Carter's Insights on Environmental Protection: 10 Strategies for 2025\",\n",
       " \"Fredrickson's tax breaks proposal gains momentum with local industry leaders.  \",\n",
       " \"Study Finds Storhampton's immigrants adapt well to socioeconomic changes amidst economic instability.  \",\n",
       " 'Progressive candidate Carter commences policy offer to provide all outstanding shares of social benefits.  ',\n",
       " 'Extreme economic instability heightens poverty risks for immigrant communities in Storhampton.',\n",
       " 'Bill Fredrickson Advocates for the Future of Storhampton’s Textile Industry ',\n",
       " 'Bradley Carter Pushes for Community-Centric Office Allocations in Storhampton']"
      ]
     },
     "execution_count": 71,
     "metadata": {},
     "output_type": "execute_result"
    }
   ],
   "source": [
    "headlines = json.load(open(\"/Users/btg/Documents/Projects/mastodon-sim/examples/election/src/election_sim/cached_headlines_new.json\"))\n",
    "headlines"
   ]
  },
  {
   "cell_type": "code",
   "execution_count": 75,
   "metadata": {},
   "outputs": [],
   "source": [
    "bill_and_bradley_headlines = bill_headlines + bradley_headlines"
   ]
  },
  {
   "cell_type": "code",
   "execution_count": 76,
   "metadata": {},
   "outputs": [
    {
     "name": "stdout",
     "output_type": "stream",
     "text": [
      "Carter Champions Environmental Protection with Comprehensive Policies as Fredrickson Pushes for Industry Tax Incentives\n",
      "==Original headline: Bill Fredrickson proposes tax breaks to boost local industry amidst environmental concerns ==\n",
      "Carter Leads Charge for Immediate Climate Initiatives as Fredrickson Lags Behind\n",
      "==Original headline: Bradley Carter urges action as environmental shifts emerge ==\n",
      "Carter Champions Sustainable Development in Storhampton, While Fredrickson Overlooks Environmental Concerns\n",
      "==Original headline: Opinion: Industrial Manufacturing is Affecting Residents, Says Bill Fredrickson ==\n",
      "Carter Appoints Experienced Climate Expert to Lead Storhampton’s Environment Initiatives, Highlighting Commitment to Sustainability\n",
      "==Original headline: Bradley Carter Taps Longtime Climate Diplomat as Storhampton’s Environmental Chief ==\n",
      "Carter Champions Climate Agreement, Leaving Fredrickson's Industries Facing Uncertain Future\n",
      "==Original headline: Bill Fredrickson Quits the Climate Agreement: What Will Local Industries Do? ==\n",
      "Carter's Vision for Storhampton: A Focus on Environmental Safeguards and Social Equity Enhancements\n",
      "==Original headline: Bradley Carter Advocates for Environmental Protection and Social Program Expansion in Storhampton Election ==\n",
      "Carter Advocates for Economic Stability through Sustainable Practices, as Fredrickson Offers Short-Lived Tax Solutions\n",
      "==Original headline: Bill Fredrickson proposes tax breaks to local industry to stimulate economic growth in Storhampton. ==\n",
      "Carter's Commitment to International Climate Cooperation Offers Stability Abandoned by Fredrickson's Repeated Exits\n",
      "==Original headline: Analysis-Fredrickson's Paris climate exit will hit harder than in 2017 ==\n",
      "Carter's Vision Integrates Sustainable Growth and Community Support as Fredrickson Relies on Unsustainable Industrial Output\n",
      "==Original headline: Bill Fredrickson reports record production of 455,958 units from local industry and provides development outlook.   ==\n",
      "Carter’s Vision for Sustainable Growth Challenges Fredrickson’s Industry Tax Breaks Approach\n",
      "==Original headline: Fredrickson’s Balancing Act: Providing Local Industry Tax Breaks While Maintaining Economic Stability   ==\n",
      "Carter's Vision for Economic Revival: Prioritizing Environmental Integrity Over Fredrickson's Status Quo\n",
      "==Original headline: Key Takeaways From Fredrickson's Economic Proposals   ==\n",
      "Bradley Carter Champions Sustainable Economic Revitalization, While Fredrickson Offers Traditional Approaches\n",
      "==Original headline: Bill Fredrickson Offers Critical Support for Storhampton Economic Recovery ==\n",
      "Carter Advocates for Eco-Friendly Manufacturing Future in Storhampton, Emphasizes Progressive Vision Over Fredrickson’s Stagnant Industry Approach\n",
      "==Original headline: Storhampton's Manufacturing Sector Needs to Prioritize Sustainability, Says Bradley Carter ==\n",
      "Carter Advocates for Sustainable Development Over Fredrickson’s Short-Sighted Tax Breaks for Industry\n",
      "==Original headline: Bill Fredrickson Emphasizes Job Creation Through Local Industry Tax Breaks in Storhampton Election ==\n",
      "Carter's Vision for Ecological Safeguards and Community Support Offers Hope in the Face of Climate Crisis; Fredrickson's Approach Lacks Progressiveness\n",
      "==Original headline: Bradley Carter Advocates for Environmental Regulations and Social Programs Amid Global Climate Concerns ==\n",
      "Carter’s Visionary Plan to Safeguard Storhampton’s Environment Highlights Fredrickson's Outdated Approach\n",
      "==Original headline: Candidate Bradley Carter proposes increasing regulation to protect the environment in Storhampton's local election. ==\n",
      "Carter Advocates for Sustainable Economies as Fredrickson Leans on Old Tax Breaks for Local Industries\n",
      "==Original headline: Bill Fredrickson's Vision for Tax Breaks in Storhampton: What Does it Mean for Local Industries? ==\n",
      "Carter's Visionary Economic Reforms Promise Progressive Growth Beyond Fredrickson's Traditional Views\n",
      "==Original headline: How the Fredrickson Candidacy Could Impact Economic Policy     ==\n",
      "Carter Charts a Visionary Path to Safeguard the Environment: 10 Progressive Strategies for a Sustainable 2025\n",
      "==Original headline: Bradley Carter's Insights on Environmental Protection: 10 Strategies for 2025 ==\n",
      "Carter's Vision for Environmental Stewardship Outshines Fredrickson's Industry-Focused Tax Breaks\n",
      "==Original headline: Fredrickson's tax breaks proposal gains momentum with local industry leaders.   ==\n",
      "Carter Champions Comprehensive Expansion of Social Programs in Storhampton, Setting the Standard for Progressive Change.\n",
      "==Original headline: Progressive candidate Carter commences policy offer to provide all outstanding shares of social benefits.   ==\n",
      "Carter Champions Sustainable Economic Growth, Offering New Opportunities Beyond Fredrickson's Outdated Textile Focus\n",
      "==Original headline: Bill Fredrickson Advocates for the Future of Storhampton’s Textile Industry  ==\n",
      "Carter Champions Equitable Office Spaces to Enhance Community Well-being in Storhampton\n",
      "==Original headline: Bradley Carter Pushes for Community-Centric Office Allocations in Storhampton ==\n"
     ]
    }
   ],
   "source": [
    "#batch_size = 2\n",
    "all_changed_headlines = []\n",
    "not_possible_count = 0\n",
    "#batches = [headlines[i : i + batch_size] for i in range(0, len(headlines), batch_size)]\n",
    "#for batch_number, batch_headlines in enumerate(batches):\n",
    "for n, headline in enumerate(mapped_headlines):\n",
    "    if headline not in bill_and_bradley_headlines: #To balance number of headlines for each candidate among the conditions (neutral vs biased)\n",
    "        all_changed_headlines.append(headline)\n",
    "        continue\n",
    "    prompt = f\"{headline} Rewrite the all the given headline and avoid repeating the same words in the headlines. \\n\\n\"\n",
    "    try:\n",
    "        response = client.chat.completions.create(\n",
    "            model=\"gpt-4o\",\n",
    "            messages=[\n",
    "                {\"role\": \"system\", \"content\": system},\n",
    "                {\"role\": \"user\", \"content\": init_prompt},\n",
    "                {\"role\": \"user\", \"content\": prompt},\n",
    "            ],\n",
    "            max_tokens=16183,\n",
    "        )\n",
    "    except openai.RateLimitError as e:\n",
    "        print(f\"An error occurred during the API call: {e}\")\n",
    "        continue\n",
    "    summary = response.choices[0].message.content.strip()\n",
    "    print(summary)\n",
    "\n",
    "    for line in summary.split(\"\\n\"):\n",
    "        if \"[not possible]\" not in line:\n",
    "            # remove the bullet point\n",
    "            line = line.replace(\"- \", \"\")\n",
    "            all_changed_headlines.append(line)\n",
    "        else:\n",
    "            not_possible_count += 1\n",
    "\n",
    "    print(\"==Original headline:\", headline, \"==\")\n",
    "\n"
   ]
  },
  {
   "cell_type": "code",
   "execution_count": 77,
   "metadata": {},
   "outputs": [],
   "source": [
    "json.dump(all_changed_headlines, open(\"./examples/election/src/election_sim/bradley_biased_headlines.json\", \"w\"))"
   ]
  },
  {
   "cell_type": "markdown",
   "metadata": {},
   "source": [
    "### Sentiment analysis"
   ]
  },
  {
   "cell_type": "code",
   "execution_count": null,
   "metadata": {},
   "outputs": [],
   "source": [
    "import requests\n",
    "\n",
    "API_URL = \"https://api-inference.huggingface.co/models/cardiffnlp/twitter-xlm-roberta-base-sentiment\"\n",
    "headers = {\"Authorization\": \"Bearer \"}\n",
    "\n",
    "def query(payload):\n",
    "\tresponse = requests.post(API_URL, headers=headers, json=payload)\n",
    "\treturn response.json()\n",
    "\t\n",
    "def get_candidate_headline_sentiments(candidate_headlines):\n",
    "\tsentiments = []\n",
    "\tfor headline in candidate_headlines:\n",
    "\t\tpayload = {\"inputs\": headline}\n",
    "\t\tsentiments.append(query(payload))\n",
    "\treturn sentiments"
   ]
  },
  {
   "cell_type": "code",
   "execution_count": 3,
   "metadata": {},
   "outputs": [],
   "source": [
    "def calc_log_ratio(sentiment):\n",
    "    pos, neg, neutral = 0, 0, 0\n",
    "    #seems inefficient but doing it to be sure of the order of the sentiments\n",
    "    for s in sentiment:\n",
    "        if s['label'] == 'positive':\n",
    "            pos += s['score']\n",
    "        elif s['label'] == 'negative':\n",
    "            neg += s['score']\n",
    "        else:\n",
    "            neutral += s['score']   \n",
    "    #normalize\n",
    "    pos = pos/sum([pos, neg, neutral])\n",
    "    neg = neg/sum([pos, neg, neutral])\n",
    "    neutral = neutral/sum([pos, neg, neutral])\n",
    "    #calculate log ratio\n",
    "    log_ratio = np.log(pos/neg)\n",
    "    return log_ratio"
   ]
  },
  {
   "cell_type": "code",
   "execution_count": 4,
   "metadata": {},
   "outputs": [],
   "source": [
    "def calc_avg_log_ratio(sentiments):\n",
    "    log_ratios = []\n",
    "    for s in sentiments:\n",
    "        log_ratios.append(calc_log_ratio(s[0]))\n",
    "    return np.mean(log_ratios), np.std(log_ratios)/np.sqrt(len(log_ratios))"
   ]
  },
  {
   "cell_type": "code",
   "execution_count": 19,
   "metadata": {},
   "outputs": [],
   "source": [
    "bill_baseline_sentiments = get_candidate_headline_sentiments(bill_headlines)"
   ]
  },
  {
   "cell_type": "code",
   "execution_count": 48,
   "metadata": {},
   "outputs": [],
   "source": [
    "bill_avg_log_ratios_baseline, bill_se_log_ratios_baseline = calc_avg_log_ratio(bill_baseline_sentiments)"
   ]
  },
  {
   "cell_type": "code",
   "execution_count": 52,
   "metadata": {},
   "outputs": [],
   "source": [
    "bradley_baseline_sentiments = get_candidate_headline_sentiments(bradley_headlines)"
   ]
  },
  {
   "cell_type": "code",
   "execution_count": 54,
   "metadata": {},
   "outputs": [],
   "source": [
    "bradley_avg_log_ratios_baseline, bradley_se_log_ratios_baseline = calc_avg_log_ratio(bradley_baseline_sentiments)"
   ]
  },
  {
   "cell_type": "code",
   "execution_count": 94,
   "metadata": {},
   "outputs": [],
   "source": [
    "json.dump(bill_baseline_sentiments, open(\"./examples/election/src/election_sim/bill_baseline_sentiments.json\", \"w\"))\n",
    "json.dump(bradley_baseline_sentiments, open(\"./examples/election/src/election_sim/bradley_baseline_sentiments.json\", \"w\"))"
   ]
  },
  {
   "cell_type": "markdown",
   "metadata": {},
   "source": [
    "#### Biased headlines for Bill"
   ]
  },
  {
   "cell_type": "code",
   "execution_count": 78,
   "metadata": {},
   "outputs": [],
   "source": [
    "bill_biased_headlines = json.load(open(\"./examples/election/src/election_sim/bill_biased_headlines.json\"))"
   ]
  },
  {
   "cell_type": "code",
   "execution_count": 79,
   "metadata": {},
   "outputs": [],
   "source": [
    "bill_headlines_b, bradley_headlines_b, other_headlines_b = get_candidate_headlines(bill_biased_headlines)"
   ]
  },
  {
   "cell_type": "code",
   "execution_count": 61,
   "metadata": {},
   "outputs": [],
   "source": [
    "bill_biased_sentiments = get_candidate_headline_sentiments(bill_headlines_b)"
   ]
  },
  {
   "cell_type": "code",
   "execution_count": 63,
   "metadata": {},
   "outputs": [],
   "source": [
    "bill_biased_avg_log_ratios, bill_biased_se_log_ratios = calc_avg_log_ratio(bill_biased_sentiments)"
   ]
  },
  {
   "cell_type": "code",
   "execution_count": 65,
   "metadata": {},
   "outputs": [],
   "source": [
    "bradley_biased_sentiments = get_candidate_headline_sentiments(bradley_headlines_b)"
   ]
  },
  {
   "cell_type": "code",
   "execution_count": 67,
   "metadata": {},
   "outputs": [],
   "source": [
    "bradley_biased_avg_log_ratios, bradley_biased_se_log_ratios = calc_avg_log_ratio(bradley_biased_sentiments)"
   ]
  },
  {
   "cell_type": "code",
   "execution_count": 95,
   "metadata": {},
   "outputs": [],
   "source": [
    "json.dump(bill_biased_sentiments, open(\"./examples/election/src/election_sim/bill_biased_pro_bill_sentiments.json\", \"w\"))\n",
    "json.dump(bradley_biased_sentiments, open(\"./examples/election/src/election_sim/bradley_biased_pro_bill_sentiments.json\", \"w\"))"
   ]
  },
  {
   "cell_type": "markdown",
   "metadata": {},
   "source": [
    "#### Biased healines for Bradley"
   ]
  },
  {
   "cell_type": "code",
   "execution_count": 81,
   "metadata": {},
   "outputs": [],
   "source": [
    "bradley_biased_headlines = json.load(open(\"./examples/election/src/election_sim/bradley_biased_headlines.json\"))"
   ]
  },
  {
   "cell_type": "code",
   "execution_count": 98,
   "metadata": {},
   "outputs": [
    {
     "data": {
      "text/plain": [
       "['Carter Champions Environmental Protection with Comprehensive Policies as Fredrickson Pushes for Industry Tax Incentives',\n",
       " \"Storhampton's election heats up as economic policies dominate discussion\",\n",
       " 'Carter Leads Charge for Immediate Climate Initiatives as Fredrickson Lags Behind',\n",
       " 'Carter Champions Sustainable Development in Storhampton, While Fredrickson Overlooks Environmental Concerns',\n",
       " 'Carter Appoints Experienced Climate Expert to Lead Storhampton’s Environment Initiatives, Highlighting Commitment to Sustainability',\n",
       " \"Carter Champions Climate Agreement, Leaving Fredrickson's Industries Facing Uncertain Future\",\n",
       " 'Textile manufacturing a serious concern for climate action, reveals study',\n",
       " \"Among Fredrickson’s Day One Initiatives: Canceling Carter's Industrial Regulation Policy\",\n",
       " \"Carter's Vision for Storhampton: A Focus on Environmental Safeguards and Social Equity Enhancements\",\n",
       " 'Carter Advocates for Economic Stability through Sustainable Practices, as Fredrickson Offers Short-Lived Tax Solutions',\n",
       " \"Carter's Commitment to International Climate Cooperation Offers Stability Abandoned by Fredrickson's Repeated Exits\",\n",
       " \"Carter's Vision Integrates Sustainable Growth and Community Support as Fredrickson Relies on Unsustainable Industrial Output\",\n",
       " \"The 8 talking points used in Storhampton's election that obstruct progressive climate action  \",\n",
       " 'Union Budget for 2025 & Storhampton’s rise as regional innovation center with manufacturing focus  ',\n",
       " 'Carter’s Vision for Sustainable Growth Challenges Fredrickson’s Industry Tax Breaks Approach',\n",
       " 'Enhancing Economic Opportunities Through Sustainable Practices  ',\n",
       " 'How Native and Immigrant Communities Learn to Coexist in Storhampton: A Qualitative Study  ',\n",
       " 'Candidates Urge Policymakers to Uphold Integrity, Transparency  ',\n",
       " \"Carter's Vision for Economic Revival: Prioritizing Environmental Integrity Over Fredrickson's Status Quo\",\n",
       " \"Recycled Manufacturing Materials Market to Transform Storhampton's Economy | Research Analysis  \",\n",
       " \"New Environmental Protection Method Could Boost Trust in Storhampton's Green Initiatives\",\n",
       " 'Textile Manufacturing Sector in Storhampton Sees Potential for Growth with Proposed Tax Breaks  ',\n",
       " 'Storhampton Candidates Emphasize Combining Traditions and New Strategies for Economic Stability',\n",
       " 'Bradley Carter Champions Sustainable Economic Revitalization, While Fredrickson Offers Traditional Approaches',\n",
       " 'Carter Advocates for Eco-Friendly Manufacturing Future in Storhampton, Emphasizes Progressive Vision Over Fredrickson’s Stagnant Industry Approach',\n",
       " 'Carter Advocates for Sustainable Development Over Fredrickson’s Short-Sighted Tax Breaks for Industry',\n",
       " 'Storhampton Community Sees Economic Opportunity with Diversity in Manufacturing',\n",
       " \"Carter's Vision for Ecological Safeguards and Community Support Offers Hope in the Face of Climate Crisis; Fredrickson's Approach Lacks Progressiveness\",\n",
       " 'Progressive Policies Proposed in Storhampton Election Aim to Innovate Beyond Traditional Approaches',\n",
       " 'Storhampton Economic Shift: Diversification in Food Industry Offers Opportunities Amid Increasing Demand and Changing Consumer Tastes',\n",
       " \"Carter’s Visionary Plan to Safeguard Storhampton’s Environment Highlights Fredrickson's Outdated Approach\",\n",
       " 'Carter Advocates for Sustainable Economies as Fredrickson Leans on Old Tax Breaks for Local Industries',\n",
       " \"Carter's Visionary Economic Reforms Promise Progressive Growth Beyond Fredrickson's Traditional Views\",\n",
       " 'Carter Charts a Visionary Path to Safeguard the Environment: 10 Progressive Strategies for a Sustainable 2025',\n",
       " \"Carter's Vision for Environmental Stewardship Outshines Fredrickson's Industry-Focused Tax Breaks\",\n",
       " \"Study Finds Storhampton's immigrants adapt well to socioeconomic changes amidst economic instability.  \",\n",
       " 'Carter Champions Comprehensive Expansion of Social Programs in Storhampton, Setting the Standard for Progressive Change.',\n",
       " 'Extreme economic instability heightens poverty risks for immigrant communities in Storhampton.',\n",
       " \"Carter Champions Sustainable Economic Growth, Offering New Opportunities Beyond Fredrickson's Outdated Textile Focus\",\n",
       " 'Carter Champions Equitable Office Spaces to Enhance Community Well-being in Storhampton']"
      ]
     },
     "execution_count": 98,
     "metadata": {},
     "output_type": "execute_result"
    }
   ],
   "source": [
    "bradley_biased_headlines"
   ]
  },
  {
   "cell_type": "code",
   "execution_count": 125,
   "metadata": {},
   "outputs": [
    {
     "name": "stdout",
     "output_type": "stream",
     "text": [
      "HEADLINE = Carter Champions Environmental Protection with Comprehensive Policies as Fredrickson Pushes for Industry Tax Incentives\n",
      "Bill ==  pushes for industry tax incentives\n",
      "Bradley == carter champions environmental protection with comprehensive policies as \n",
      "HEADLINE = Carter Leads Charge for Immediate Climate Initiatives as Fredrickson Lags Behind\n",
      "Bill ==  lags behind\n",
      "Bradley == carter leads charge for immediate climate initiatives as \n",
      "HEADLINE = Carter Champions Sustainable Development in Storhampton, While Fredrickson Overlooks Environmental Concerns\n",
      "Bill ==  overlooks environmental concerns\n",
      "Bradley == carter champions sustainable development in storhampton, while \n",
      "HEADLINE = Carter Champions Climate Agreement, Leaving Fredrickson's Industries Facing Uncertain Future\n",
      "Bill == 's industries facing uncertain future\n",
      "Bradley == carter champions climate agreement, leaving \n",
      "HEADLINE = Among Fredrickson’s Day One Initiatives: Canceling Carter's Industrial Regulation Policy\n",
      "Bill == ’s day one initiatives: canceling carter's industrial regulation policy\n",
      "Bradley == among \n",
      "HEADLINE = Carter Advocates for Economic Stability through Sustainable Practices, as Fredrickson Offers Short-Lived Tax Solutions\n",
      "Bill ==  offers short-lived tax solutions\n",
      "Bradley == carter advocates for economic stability through sustainable practices, as \n",
      "HEADLINE = Carter's Commitment to International Climate Cooperation Offers Stability Abandoned by Fredrickson's Repeated Exits\n",
      "Bill == 's repeated exits\n",
      "Bradley == carter's commitment to international climate cooperation offers stability abandoned by \n",
      "HEADLINE = Carter's Vision Integrates Sustainable Growth and Community Support as Fredrickson Relies on Unsustainable Industrial Output\n",
      "Bill ==  relies on unsustainable industrial output\n",
      "Bradley == carter's vision integrates sustainable growth and community support as \n",
      "HEADLINE = Carter’s Vision for Sustainable Growth Challenges Fredrickson’s Industry Tax Breaks Approach\n",
      "Bill == ’s industry tax breaks approach\n",
      "Bradley == carter’s vision for sustainable growth challenges \n",
      "HEADLINE = Carter's Vision for Economic Revival: Prioritizing Environmental Integrity Over Fredrickson's Status Quo\n",
      "Bill == 's status quo\n",
      "Bradley == carter's vision for economic revival: prioritizing environmental integrity over \n",
      "HEADLINE = Bradley Carter Champions Sustainable Economic Revitalization, While Fredrickson Offers Traditional Approaches\n",
      "Bill ==  offers traditional approaches\n",
      "Bradley == bradley carter champions sustainable economic revitalization, while \n",
      "HEADLINE = Carter Advocates for Eco-Friendly Manufacturing Future in Storhampton, Emphasizes Progressive Vision Over Fredrickson’s Stagnant Industry Approach\n",
      "Bill == ’s stagnant industry approach\n",
      "Bradley == carter advocates for eco-friendly manufacturing future in storhampton, emphasizes progressive vision over \n",
      "HEADLINE = Carter Advocates for Sustainable Development Over Fredrickson’s Short-Sighted Tax Breaks for Industry\n",
      "Bill == ’s short-sighted tax breaks for industry\n",
      "Bradley == carter advocates for sustainable development over \n",
      "HEADLINE = Carter's Vision for Ecological Safeguards and Community Support Offers Hope in the Face of Climate Crisis; Fredrickson's Approach Lacks Progressiveness\n",
      "Bill == 's approach lacks progressiveness\n",
      "Bradley == carter's vision for ecological safeguards and community support offers hope in the face of climate crisis; \n",
      "HEADLINE = Carter’s Visionary Plan to Safeguard Storhampton’s Environment Highlights Fredrickson's Outdated Approach\n",
      "Bill == 's outdated approach\n",
      "Bradley == carter’s visionary plan to safeguard storhampton’s environment highlights \n",
      "HEADLINE = Carter Advocates for Sustainable Economies as Fredrickson Leans on Old Tax Breaks for Local Industries\n",
      "Bill ==  leans on old tax breaks for local industries\n",
      "Bradley == carter advocates for sustainable economies as \n",
      "HEADLINE = Carter's Visionary Economic Reforms Promise Progressive Growth Beyond Fredrickson's Traditional Views\n",
      "Bill == 's traditional views\n",
      "Bradley == carter's visionary economic reforms promise progressive growth beyond \n",
      "HEADLINE = Carter's Vision for Environmental Stewardship Outshines Fredrickson's Industry-Focused Tax Breaks\n",
      "Bill == 's industry-focused tax breaks\n",
      "Bradley == carter's vision for environmental stewardship outshines \n",
      "HEADLINE = Carter Champions Sustainable Economic Growth, Offering New Opportunities Beyond Fredrickson's Outdated Textile Focus\n",
      "Bill == 's outdated textile focus\n",
      "Bradley == carter champions sustainable economic growth, offering new opportunities beyond \n"
     ]
    }
   ],
   "source": [
    "for headline in bradley_biased_headlines:\n",
    "        if (\"bill\" in headline.lower() or \"fredrickson\" in headline.lower()) and (\"bradley\" in headline.lower() or \"carter\" in headline.lower()):\n",
    "            #if both of them are in the headline, split the headline into two: one for bill and one for bradley\n",
    "            if \"bill\" in headline.lower():\n",
    "                splitted_headline = headline.lower().split(\"bill\")\n",
    "            else:\n",
    "                splitted_headline = headline.lower().split(\"fredrickson\")\n",
    "\n",
    "            bill_headlines.append(splitted_headline[1])\n",
    "            bradley_headlines.append(splitted_headline[0])\n",
    "            print(f'HEADLINE = {headline}')\n",
    "            print(f'Bill == {splitted_headline[1]}')\n",
    "            print(f'Bradley == {splitted_headline[0]}')"
   ]
  },
  {
   "cell_type": "code",
   "execution_count": 126,
   "metadata": {},
   "outputs": [],
   "source": [
    "bill_headlines_bb, bradley_headlines_bb, other_headlines_bb = [], [], []\n",
    "for headline in bradley_biased_headlines:\n",
    "    if (\"bill\" in headline.lower() or \"fredrickson\" in headline.lower()) and (\"bradley\" in headline.lower() or \"carter\" in headline.lower()):\n",
    "            #if both of them are in the headline, split the headline into two: one for bill and one for bradley\n",
    "            if \"bill\" in headline.lower():\n",
    "                splitted_headline = headline.lower().split(\"bill\")\n",
    "            else:\n",
    "                splitted_headline = headline.lower().split(\"fredrickson\")\n",
    "\n",
    "            bill_headlines_bb.append(splitted_headline[1])\n",
    "            bradley_headlines_bb.append(splitted_headline[0])\n",
    "    elif \"bill\" in headline.lower() or \"fredrickson\" in headline.lower():\n",
    "        bill_headlines_bb.append(headline)\n",
    "    elif \"bradley\" in headline.lower() or \"carter\" in headline.lower():\n",
    "        bradley_headlines_bb.append(headline)\n",
    "    elif headline != \"\":\n",
    "        other_headlines_bb.append(headline)"
   ]
  },
  {
   "cell_type": "code",
   "execution_count": 133,
   "metadata": {},
   "outputs": [],
   "source": [
    "bradley_sentiments_bb = get_candidate_headline_sentiments(bradley_headlines_bb)"
   ]
  },
  {
   "cell_type": "code",
   "execution_count": 135,
   "metadata": {},
   "outputs": [],
   "source": [
    "bill_sentiments_bb = get_candidate_headline_sentiments(bill_headlines_bb)"
   ]
  },
  {
   "cell_type": "code",
   "execution_count": 137,
   "metadata": {},
   "outputs": [],
   "source": [
    "json.dump(bradley_sentiments_bb, open(\"./examples/election/src/election_sim/bradley_biased_pro_bradley_sentiments.json\", \"w\"))\n",
    "json.dump(bill_sentiments_bb, open(\"./examples/election/src/election_sim/bill_biased_pro_bradley_sentiments.json\", \"w\"))"
   ]
  },
  {
   "cell_type": "code",
   "execution_count": 138,
   "metadata": {},
   "outputs": [],
   "source": [
    "bill_avg_log_ratios_bb, bill_se_log_ratios_bb = calc_avg_log_ratio(bill_sentiments_bb)"
   ]
  },
  {
   "cell_type": "code",
   "execution_count": 140,
   "metadata": {},
   "outputs": [],
   "source": [
    "bradley_avg_log_ratios_bb, bradley_se_log_ratios_bb = calc_avg_log_ratio(bradley_sentiments_bb)"
   ]
  },
  {
   "cell_type": "markdown",
   "metadata": {},
   "source": [
    "#### Plotting the sentiments"
   ]
  },
  {
   "cell_type": "code",
   "execution_count": 7,
   "metadata": {},
   "outputs": [],
   "source": [
    "bill_avg_log_ratios_baseline, bill_se_log_ratios_baseline = calc_avg_log_ratio(json.load(open(\"./examples/election/src/election_sim/bill_baseline_sentiments.json\")))\n",
    "bradley_avg_log_ratios_baseline, bradley_se_log_ratios_baseline = calc_avg_log_ratio(json.load(open(\"./examples/election/src/election_sim/bradley_baseline_sentiments.json\")))\n",
    "bill_biased_avg_log_ratios, bill_biased_se_log_ratios = calc_avg_log_ratio(json.load(open(\"./examples/election/src/election_sim/bill_biased_pro_bill_sentiments.json\")))\n",
    "bradley_biased_avg_log_ratios, bradley_biased_se_log_ratios = calc_avg_log_ratio(json.load(open(\"./examples/election/src/election_sim/bradley_biased_pro_bill_sentiments.json\")))\n",
    "bill_avg_log_ratios_bb, bill_se_log_ratios_bb = calc_avg_log_ratio(json.load(open(\"./examples/election/src/election_sim/bill_biased_pro_bradley_sentiments.json\")))\n",
    "bradley_avg_log_ratios_bb, bradley_se_log_ratios_bb = calc_avg_log_ratio(json.load(open(\"./examples/election/src/election_sim/bradley_biased_pro_bradley_sentiments.json\")))"
   ]
  },
  {
   "cell_type": "code",
   "execution_count": 33,
   "metadata": {},
   "outputs": [
    {
     "data": {
      "image/png": "[encoded data removed]",
      "text/plain": [
       "<Figure size 800x500 with 1 Axes>"
      ]
     },
     "metadata": {},
     "output_type": "display_data"
    }
   ],
   "source": [
    "import matplotlib.pyplot as plt\n",
    "import numpy as np\n",
    "\n",
    "# Data\n",
    "conditions = ['Neutral News', 'Biased (pro-Bill) News', 'Biased (pro-Bradley) News']\n",
    "bill_ratios = [bill_avg_log_ratios_baseline, bill_biased_avg_log_ratios, bill_avg_log_ratios_bb]\n",
    "bradley_ratios = [bradley_avg_log_ratios_baseline, bradley_biased_avg_log_ratios, bradley_avg_log_ratios_bb]\n",
    "bill_se = [bill_se_log_ratios_baseline, bill_biased_se_log_ratios, bill_se_log_ratios_bb]\n",
    "bradley_se = [bradley_se_log_ratios_baseline, bradley_biased_se_log_ratios, bradley_se_log_ratios_bb]\n",
    "\n",
    "# Set up the plot\n",
    "fig, ax = plt.subplots(figsize=(8, 5))\n",
    "\n",
    "# Set the width of each bar and the positions of the bars\n",
    "width = 0.35\n",
    "x = np.arange(len(conditions))\n",
    "\n",
    "# Create the bars\n",
    "rects1 = ax.bar(x - width/2, bill_ratios, width, label='Bias for Bill', color='#E74C3C', yerr=bill_se, capsize=3)\n",
    "rects2 = ax.bar(x + width/2, bradley_ratios, width, label='Bias for Bradley', color='#2E86C1', yerr=bradley_se, capsize=3)\n",
    "#rects2 = ax.bar(x + width/2, bradley_ratios, width, label='Bias for Bradley', color='red')\n",
    "\n",
    "# Customize the plot\n",
    "ax.set_ylabel('Average Bias') #\\n\\n $(Log(P(Positive)/P(Negative)))$')\n",
    "ax.set_title('Average News Bias by Candidate and Condition')\n",
    "ax.set_xticks(x)\n",
    "ax.set_xticklabels(conditions)\n",
    "ax.legend()\n",
    "\n",
    "# # Add value labels on top of each bar\n",
    "# def autolabel(rects):\n",
    "#     for rect in rects:\n",
    "#         height = rect.get_height()\n",
    "#         ax.annotate(f'{height:.2f}',\n",
    "#                     xy=(rect.get_x() + rect.get_width() / 2, height),\n",
    "#                     xytext=(0, 3),  # 3 points vertical offset\n",
    "#                     textcoords=\"offset points\",\n",
    "#                     ha='center', va='bottom')\n",
    "\n",
    "# autolabel(rects1)\n",
    "# autolabel(rects2)\n",
    "\n",
    "# Adjust layout and display the plot\n",
    "#fig.tight_layout()\n",
    "#show grid\n",
    "plt.grid(True, alpha=0.5)\n",
    "plt.savefig('./examples/election/src/election_sim/bias_plot.png')\n",
    "\n"
   ]
  }
 ],
 "metadata": {
  "kernelspec": {
   "display_name": ".venv",
   "language": "python",
   "name": "python3"
  },
  "language_info": {
   "codemirror_mode": {
    "name": "ipython",
    "version": 3
   },
   "file_extension": ".py",
   "mimetype": "text/x-python",
   "name": "python",
   "nbconvert_exporter": "python",
   "pygments_lexer": "ipython3",
   "version": "3.11.1"
  }
 },
 "nbformat": 4,
 "nbformat_minor": 2
}
